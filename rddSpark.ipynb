{
 "cells": [
  {
   "cell_type": "code",
   "execution_count": 34,
   "id": "c0539131-0aec-41ce-b614-71ca017d77c3",
   "metadata": {},
   "outputs": [
    {
     "name": "stdout",
     "output_type": "stream",
     "text": [
      "+--------+---+---+\n",
      "|Plan_mes|mes|nro|\n",
      "+--------+---+---+\n",
      "|   95729|  1|  1|\n",
      "|   96410|  1|  3|\n",
      "|   96400|  1|  2|\n",
      "|   95729|  1|  5|\n",
      "|   95420|  1|  4|\n",
      "|   96409|  1|  6|\n",
      "|   94497|  1|  8|\n",
      "|   95982|  1|  7|\n",
      "|   96262|  1|  9|\n",
      "|   93720|  1| 10|\n",
      "|   94465|  1| 11|\n",
      "|   96308|  1| 12|\n",
      "|   96385|  1| 13|\n",
      "|   95744|  1| 14|\n",
      "|   96385|  1| 15|\n",
      "|   93618|  1| 16|\n",
      "|   96262|  1| 18|\n",
      "|   95982|  1| 17|\n",
      "|   96133|  1| 20|\n",
      "|   96234|  1| 19|\n",
      "+--------+---+---+\n",
      "only showing top 20 rows\n",
      "\n"
     ]
    }
   ],
   "source": [
    "from pyspark import SparkContext, SparkConf\n",
    "from pyspark.sql import SQLContext\n",
    "\n",
    "from pyspark.sql.types import *\n",
    "\n",
    "from pyspark.sql import functions\n",
    "\n",
    "conf = SparkConf().setAppName(\"Sql TELECOM\").setMaster(\"local\")\n",
    "\n",
    "sc = SparkContext.getOrCreate(conf)\n",
    "\n",
    "sqlCxt = SQLContext(sc)\n",
    "\n",
    "queryClient = sqlCxt.read.csv('cliente.csv',StructType([StructField(\"Plan_mes\",StringType(),True),\n",
    "                                                        StructField(\"mes\",DecimalType(),False),\n",
    "                                                        StructField(\"nro\",DecimalType(),False)]),\n",
    "                                    header=True,sep=\";\")\n",
    "queryClient.registerTempTable('CLIENTES')\n",
    "\n",
    "queryClient.show()"
   ]
  },
  {
   "cell_type": "code",
   "execution_count": 2,
   "id": "a2533f31-c297-4449-ae60-10d8168db8bf",
   "metadata": {},
   "outputs": [
    {
     "name": "stdout",
     "output_type": "stream",
     "text": [
      "+-----------+-----------+---+\n",
      "|Facturacion|nro_cliente|mes|\n",
      "+-----------+-----------+---+\n",
      "|        936|          1|  1|\n",
      "|       1353|          2|  1|\n",
      "|        602|          3|  1|\n",
      "|        848|          4|  1|\n",
      "|        424|          5|  1|\n",
      "|        848|          6|  1|\n",
      "|        848|          7|  1|\n",
      "|        495|          8|  1|\n",
      "|        598|          9|  1|\n",
      "|        602|         10|  1|\n",
      "|       1045|         11|  1|\n",
      "|        586|         12|  1|\n",
      "|        410|         13|  1|\n",
      "|        410|         14|  1|\n",
      "|        410|         15|  1|\n",
      "|        601|         16|  1|\n",
      "|        593|         17|  1|\n",
      "|        387|         18|  1|\n",
      "|        602|         19|  1|\n",
      "|        512|         20|  1|\n",
      "+-----------+-----------+---+\n",
      "only showing top 20 rows\n",
      "\n"
     ]
    }
   ],
   "source": [
    "queryFactura = sqlCxt.read.csv('facturacion.csv',StructType([StructField(\"Facturacion\",DecimalType(),True),\n",
    "                                                        StructField(\"nro_cliente\",ByteType(),False),\n",
    "                                                        StructField(\"mes\",StringType(),False)]),\n",
    "                                    header=True,sep=\";\")\n",
    "queryFactura.registerTempTable('FACTURACION')\n",
    "\n",
    "queryFactura.show()\n",
    "\n"
   ]
  },
  {
   "cell_type": "code",
   "execution_count": 3,
   "id": "b5704a3b-6bba-44a2-bda3-b67df02554ca",
   "metadata": {},
   "outputs": [
    {
     "name": "stdout",
     "output_type": "stream",
     "text": [
      "+-----------------+-------------------------+-----------+---+------------+\n",
      "|Cantidad_llamadas|Duracion_Llamadas_minutos|nro_cliente|mes|tipo_llamada|\n",
      "+-----------------+-------------------------+-----------+---+------------+\n",
      "|                1|                      285|         41|  1|    Saliente|\n",
      "|                1|                       30|         42|  1|    Saliente|\n",
      "|                1|                       30|         92|  1|    Saliente|\n",
      "|                1|                       30|         94|  1|    Saliente|\n",
      "|                1|                       80|        131|  1|    Saliente|\n",
      "|                1|                       35|        131|  1|    Saliente|\n",
      "|               12|                      691|        131|  1|    Saliente|\n",
      "|                3|                      206|        158|  1|    Saliente|\n",
      "|                2|                       65|        158|  1|    Saliente|\n",
      "|                1|                      285|        177|  1|    Saliente|\n",
      "|                2|                      793|        180|  1|    Saliente|\n",
      "|                1|                      484|        304|  1|    Saliente|\n",
      "|               25|                     4168|        304|  1|    Saliente|\n",
      "|                4|                      120|        304|  1|    Saliente|\n",
      "|                1|                      544|        304|  1|    Saliente|\n",
      "|                1|                      120|        344|  1|    Saliente|\n",
      "|                2|                       86|        344|  1|    Saliente|\n",
      "|                2|                       97|        366|  1|    Saliente|\n",
      "|                1|                      174|        390|  1|    Saliente|\n",
      "|                4|                      678|        390|  1|    Saliente|\n",
      "+-----------------+-------------------------+-----------+---+------------+\n",
      "only showing top 20 rows\n",
      "\n"
     ]
    }
   ],
   "source": [
    "queryCall = sqlCxt.read.csv('llamadas.csv',StructType([StructField(\"Cantidad_llamadas\",ByteType(),True),\n",
    "                                                        StructField(\"Duracion_Llamadas_minutos\",StringType(),False),\n",
    "                                                        StructField(\"nro_cliente\",StringType(),False),\n",
    "                                                        StructField(\"mes\",StringType(),False),\n",
    "                                                        StructField(\"tipo_llamada\",StringType(),False)]),\n",
    "                                    header=True,sep=\";\")\n",
    "queryCall.registerTempTable('LLAMADAS')\n",
    "\n",
    "queryCall.show()\n",
    "\n"
   ]
  },
  {
   "cell_type": "code",
   "execution_count": 4,
   "id": "a169314e-7eb9-4da3-a1e8-777626077a70",
   "metadata": {},
   "outputs": [
    {
     "name": "stdout",
     "output_type": "stream",
     "text": [
      "+--------------------+-------+\n",
      "|           provincia|cliente|\n",
      "+--------------------+-------+\n",
      "|               Chaco|      1|\n",
      "|            Santa Fe|      2|\n",
      "|           Cï¿œrdoba|      3|\n",
      "|               Salta|      4|\n",
      "|            Santa Fe|      5|\n",
      "|          Corrientes|      6|\n",
      "|            Santa Fe|      7|\n",
      "|               Chaco|      8|\n",
      "|        Buenos Aires|      9|\n",
      "|               Chaco|     10|\n",
      "|            Santa Fe|     11|\n",
      "|    Tierra Del Fuego|     12|\n",
      "|           Tucumï¿œn|     13|\n",
      "|               Salta|     14|\n",
      "|Ciudad Autï¿œnoma...|     15|\n",
      "|Ciudad Autï¿œnoma...|     16|\n",
      "|Ciudad Autï¿œnoma...|     17|\n",
      "|Ciudad Autï¿œnoma...|     18|\n",
      "|           Cï¿œrdoba|     19|\n",
      "|               Chaco|     20|\n",
      "+--------------------+-------+\n",
      "only showing top 20 rows\n",
      "\n"
     ]
    }
   ],
   "source": [
    "queryProv = sqlCxt.read.csv('provincia.csv',StructType([StructField(\"provincia\",StringType(),False),\n",
    "                                                        StructField(\"cliente\",ByteType(),False)]),\n",
    "                                    header=True,sep=\";\", encoding='iso-8859-15')\n",
    "queryProv.registerTempTable('PROVINCIA')\n",
    "\n",
    "queryProv.show()\n"
   ]
  },
  {
   "cell_type": "markdown",
   "id": "c623fb5f-4b2a-4f13-9169-338d34ecd60c",
   "metadata": {},
   "source": [
    "## Questions"
   ]
  },
  {
   "cell_type": "markdown",
   "id": "d55513fa-1c3b-42b3-b9f2-f9e9bd6e56b6",
   "metadata": {},
   "source": [
    "#### Calcular la facturación promedio, máxima, mínima de los últimos tres meses de los clientes 12-15-20."
   ]
  },
  {
   "cell_type": "code",
   "execution_count": 20,
   "id": "f1c10e91-e880-4bce-9ef1-95a4199b95f1",
   "metadata": {},
   "outputs": [
    {
     "name": "stdout",
     "output_type": "stream",
     "text": [
      "+----------------+----------------+----------------+\n",
      "|avg(Facturacion)|min(Facturacion)|max(Facturacion)|\n",
      "+----------------+----------------+----------------+\n",
      "|        586.0000|             586|             586|\n",
      "+----------------+----------------+----------------+\n",
      "\n"
     ]
    }
   ],
   "source": [
    "rep = sqlCxt.sql(\"\"\" SELECT AVG(Facturacion), MIN(Facturacion), MAX(Facturacion) FROM FACTURACION WHERE nro_cliente = '12' \"\"\" )\n",
    "\n",
    "rep.show()\n"
   ]
  },
  {
   "cell_type": "code",
   "execution_count": 18,
   "id": "e0687934-d25d-4c72-bdfe-041794296627",
   "metadata": {},
   "outputs": [
    {
     "name": "stdout",
     "output_type": "stream",
     "text": [
      "+----------------+----------------+----------------+\n",
      "|avg(Facturacion)|min(Facturacion)|max(Facturacion)|\n",
      "+----------------+----------------+----------------+\n",
      "|        435.0000|             410|             485|\n",
      "+----------------+----------------+----------------+\n",
      "\n"
     ]
    }
   ],
   "source": [
    "rep = sqlCxt.sql(\"\"\" SELECT AVG(Facturacion), MIN(Facturacion), MAX(Facturacion) FROM FACTURACION WHERE nro_cliente = '15' \"\"\" )\n",
    "\n",
    "rep.show()"
   ]
  },
  {
   "cell_type": "code",
   "execution_count": 19,
   "id": "01383f3f-abe9-43db-8aee-08ba3623f6c7",
   "metadata": {},
   "outputs": [
    {
     "name": "stdout",
     "output_type": "stream",
     "text": [
      "+----------------+----------------+----------------+\n",
      "|avg(Facturacion)|min(Facturacion)|max(Facturacion)|\n",
      "+----------------+----------------+----------------+\n",
      "|        542.0000|             512|             602|\n",
      "+----------------+----------------+----------------+\n",
      "\n"
     ]
    }
   ],
   "source": [
    "rep = sqlCxt.sql(\"\"\" SELECT AVG(Facturacion), MIN(Facturacion), MAX(Facturacion) FROM FACTURACION WHERE nro_cliente = '20' \"\"\" )\n",
    "\n",
    "rep.show()"
   ]
  },
  {
   "cell_type": "markdown",
   "id": "ea308a2f-05af-49fe-8b6f-97776a8bc1cd",
   "metadata": {},
   "source": [
    "#### Crear una marca en caso de que haya cambiado de plan en alguno de los tres meses. (subilo al repositorio en un archivo .csv)\n"
   ]
  },
  {
   "cell_type": "code",
   "execution_count": 41,
   "id": "76d6c2d9-3464-4909-a893-f84a32aaf7f7",
   "metadata": {},
   "outputs": [
    {
     "name": "stdout",
     "output_type": "stream",
     "text": [
      "+--------+---+---+\n",
      "|Plan_mes|mes|nro|\n",
      "+--------+---+---+\n",
      "|95729   |1  |1  |\n",
      "|96400   |1  |2  |\n",
      "|96410   |1  |3  |\n",
      "|95420   |1  |4  |\n",
      "|95729   |1  |5  |\n",
      "+--------+---+---+\n",
      "only showing top 5 rows\n",
      "\n"
     ]
    }
   ],
   "source": [
    "rep2 = sqlCxt.sql(\"\"\" SELECT * FROM Clientes ORDER BY mes ,nro\"\"\")\n",
    "rep2.show(5, truncate = False) \n"
   ]
  },
  {
   "cell_type": "code",
   "execution_count": null,
   "id": "8dc89665-f619-4284-ab5f-f53f30e127ff",
   "metadata": {},
   "outputs": [],
   "source": []
  }
 ],
 "metadata": {
  "kernelspec": {
   "display_name": "Python 3 (ipykernel)",
   "language": "python",
   "name": "python3"
  },
  "language_info": {
   "codemirror_mode": {
    "name": "ipython",
    "version": 3
   },
   "file_extension": ".py",
   "mimetype": "text/x-python",
   "name": "python",
   "nbconvert_exporter": "python",
   "pygments_lexer": "ipython3",
   "version": "3.9.10"
  }
 },
 "nbformat": 4,
 "nbformat_minor": 5
}
